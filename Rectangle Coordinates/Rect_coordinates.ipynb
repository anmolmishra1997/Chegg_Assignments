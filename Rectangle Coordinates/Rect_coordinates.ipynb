{
 "cells": [
  {
   "cell_type": "code",
   "execution_count": 1,
   "metadata": {
    "collapsed": true
   },
   "outputs": [],
   "source": [
    "def return_coordinates(image):\n",
    "    #Copy the image to preserve original\n",
    "    image = [x[:] for x in image]\n",
    "    rectangle_coordinates = []\n",
    "    rows = len(image)\n",
    "    columns = len(image[0])\n",
    "    \n",
    "    for i in range(rows):\n",
    "        for j in range(columns):\n",
    "            if(image[i][j] == 0):\n",
    "                #x and y will store the diagonal corner of this rectangle\n",
    "                x = i\n",
    "                y = j\n",
    "                \n",
    "                while x<rows-1 and image[x+1][y]==0:\n",
    "                    x+=1           \n",
    "                while y<columns-1 and image[x][y+1] == 0:\n",
    "                    y+=1\n",
    "                \n",
    "                #Convert all 0s in this rectangle to 1 to avoid double counting of this rectangle\n",
    "                for m in range(i,x+1):\n",
    "                    for n in range(j,y+1):\n",
    "                        image[m][n] = 1\n",
    "                \n",
    "                #Add the obtained coordinates to the final list\n",
    "                rectangle_coordinates.append([i,j,x,y])\n",
    "    return rectangle_coordinates"
   ]
  },
  {
   "cell_type": "code",
   "execution_count": 2,
   "metadata": {
    "collapsed": true
   },
   "outputs": [],
   "source": [
    "def main():\n",
    "    input_image = [\n",
    "               [1,1,1,1,1,1,1],\n",
    "               [1,1,1,1,1,1,1],\n",
    "               [1,1,1,0,0,0,1],\n",
    "               [1,0,1,0,0,0,1],\n",
    "               [1,0,1,1,1,1,1],\n",
    "               [1,0,1,0,0,1,1],\n",
    "               [1,1,1,0,0,1,1],\n",
    "               [1,1,1,1,1,1,1]\n",
    "                ]\n",
    "    print(return_coordinates(input_image))"
   ]
  },
  {
   "cell_type": "code",
   "execution_count": 3,
   "metadata": {},
   "outputs": [
    {
     "name": "stdout",
     "output_type": "stream",
     "text": [
      "[[2, 3, 3, 5], [3, 1, 5, 1], [5, 3, 6, 4]]\n"
     ]
    }
   ],
   "source": [
    "if __name__ == \"__main__\":\n",
    "    main()"
   ]
  }
 ],
 "metadata": {
  "kernelspec": {
   "display_name": "Python 3",
   "language": "python",
   "name": "python3"
  },
  "language_info": {
   "codemirror_mode": {
    "name": "ipython",
    "version": 3
   },
   "file_extension": ".py",
   "mimetype": "text/x-python",
   "name": "python",
   "nbconvert_exporter": "python",
   "pygments_lexer": "ipython3",
   "version": "3.5.2"
  }
 },
 "nbformat": 4,
 "nbformat_minor": 2
}
